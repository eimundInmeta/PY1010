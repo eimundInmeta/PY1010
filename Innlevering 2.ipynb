{
 "cells": [
  {
   "cell_type": "markdown",
   "id": "745c0afa-1ac5-4624-b4e3-9d07108f53be",
   "metadata": {},
   "source": [
    "Title:     Innlevering 2 - PY1010\n",
    "Created:   Nov 12th 2024\n",
    "@Author:   eimundb"
   ]
  },
  {
   "cell_type": "code",
   "execution_count": 2,
   "id": "b4d6c094-5453-44e8-811f-a1605d141e58",
   "metadata": {},
   "outputs": [
    {
     "name": "stdin",
     "output_type": "stream",
     "text": [
      "Hvilket år er du født? 1976\n"
     ]
    },
    {
     "name": "stdout",
     "output_type": "stream",
     "text": [
      "Du er altså født i 1976 \n",
      "Nå er vi i det herrens år 2025 \n",
      "I 2025 fyller du 49 år, og vi kan vel si at du er i din beste alder!\n"
     ]
    }
   ],
   "source": [
    "###Oppgave 1 - Beregning av alder\n",
    "\n",
    "#import lib\n",
    "import datetime as dt\n",
    "\n",
    "#input\n",
    "alder = int(input('Hvilket år er du født?'))\n",
    "\n",
    "#beregninger\n",
    "idag = dt.datetime.now()\n",
    "dette_aar = idag.year\n",
    "din_alder = dette_aar - alder\n",
    "\n",
    "#presentasjon av resultat\n",
    "print(f\"Du er altså født i {alder} \")\n",
    "print(f\"Nå er vi i det herrens år {dette_aar} \")\n",
    "print(f\"I {dette_aar} fyller du {int(din_alder)} år, og vi kan vel si at du er i din beste alder!\")"
   ]
  },
  {
   "cell_type": "code",
   "execution_count": 3,
   "id": "5e9b0a52-c8d9-44c4-8a93-3674028e1345",
   "metadata": {},
   "outputs": [
    {
     "name": "stdin",
     "output_type": "stream",
     "text": [
      "Skriv inn antall elever:  17\n"
     ]
    },
    {
     "name": "stdout",
     "output_type": "stream",
     "text": [
      "Det må kjøpes inn 5 pizzaer til festen! Hver elev får da 0.29 pizzaer hver.\n"
     ]
    }
   ],
   "source": [
    "###Oppgave 2 - Innkjøp av pizza\n",
    "\n",
    "# import lib math\n",
    "import math\n",
    "\n",
    "#input\n",
    "antall_elever = int(input(\"Skriv inn antall elever: \"))\n",
    "antall_elever_pr_pizza = 4\n",
    "\n",
    "#beregninger\n",
    "antall_pizza = math.ceil(antall_elever / antall_elever_pr_pizza)\n",
    "\n",
    "#presentasjon av resultat\n",
    "print(f\"Det må kjøpes inn {antall_pizza} pizzaer til festen! Hver elev får da {(antall_pizza / antall_elever):.2f} pizzaer hver.\")"
   ]
  },
  {
   "cell_type": "code",
   "execution_count": 5,
   "id": "1ea19846-f6c5-4b64-8f26-b0e161cf07f2",
   "metadata": {},
   "outputs": [
    {
     "name": "stdin",
     "output_type": "stream",
     "text": [
      "Skriv inn gradtallet:  180\n"
     ]
    },
    {
     "name": "stdout",
     "output_type": "stream",
     "text": [
      "Antall radianer som tilsvarer 180.0 grader er 3.1416.\n"
     ]
    }
   ],
   "source": [
    "### Oppgave 3 - Fra grader til radianer\n",
    "\n",
    "#import lib numpy\n",
    "import numpy as np\n",
    "\n",
    "#inputparametre\n",
    "v_grad = float(input(\"Skriv inn gradtallet: \"))\n",
    "\n",
    "#beregnigner\n",
    "v_rad = v_grad*np.pi/180\n",
    "\n",
    "#presentasjon av resultat\n",
    "print(f\"Antall radianer som tilsvarer {v_grad} grader er {v_rad:.4f}.\")"
   ]
  },
  {
   "cell_type": "code",
   "execution_count": 7,
   "id": "3114dc3c-a193-4f5f-aa86-d118b8875b4d",
   "metadata": {},
   "outputs": [
    {
     "name": "stdin",
     "output_type": "stream",
     "text": [
      "Skriv inn et land:  Spania\n"
     ]
    },
    {
     "name": "stdout",
     "output_type": "stream",
     "text": [
      "Beklager, jeg har ingen informasjon om Spania.\n"
     ]
    },
    {
     "name": "stdin",
     "output_type": "stream",
     "text": [
      "Ønsker du å legge det til i listen? (y/n):  y\n",
      "Hva er hovedstaden i Spania?  Madrid\n",
      "Hvor mange millioner innbyggere bor det i Madrid?  4.5\n"
     ]
    },
    {
     "name": "stdout",
     "output_type": "stream",
     "text": [
      "Takk, da er Spania lagt til. Ha en god dag!\n",
      "{'Norge': ['Oslo', 0.634], 'England': ['London', 8.982], 'Frankrike': ['Paris', 2.161], 'Italia': ['Roma', 2.873], 'Spania': ['Madrid', 4.5]}\n"
     ]
    }
   ],
   "source": [
    "### Oppgave 4 - Dictionary\n",
    "\n",
    "#lager dictionary (deloppgave a)\n",
    "data = {\n",
    "    \"Norge\": [\"Oslo\", 0.634],\n",
    "    \"England\": [\"London\", 8.982],\n",
    "    \"Frankrike\": [\"Paris\", 2.161],\n",
    "    \"Italia\": [\"Roma\", 2.873]\n",
    "    }\n",
    "\n",
    "\n",
    "#spør brukeren om et land (deloppgave b)\n",
    "land = input(\"Skriv inn et land: \")\n",
    "    \n",
    "    \n",
    "# sjekker om inntastet verdi finnes i dictionary og returnerer svar\n",
    "if land in data:\n",
    "    #allokerer verdier til variablene\n",
    "    hovedstad, befolkning = data[land]\n",
    "    print(f\"{hovedstad} er hovedstaden i {land} og det er {befolkning} millioner innbyggere i {hovedstad}.\")\n",
    "\n",
    "else:\n",
    "    print(f\"Beklager, jeg har ingen informasjon om {land}.\")\n",
    "        \n",
    "    #sjekker om land skal legges til i listen (deloppgave c)\n",
    "    nyttland = input(\"Ønsker du å legge det til i listen? (y/n): \")\n",
    "    if nyttland.lower() == \"y\":\n",
    "        hovedstad = input(f\"Hva er hovedstaden i {land}? \")\n",
    "        folketall = float(input(f\"Hvor mange millioner innbyggere bor det i {hovedstad}? \"))\n",
    "        data.update({land: [hovedstad, folketall]})\n",
    "        \n",
    "        #bekrefter at land er lagt til\n",
    "        print(f\"Takk, da er {land} lagt til. Ha en god dag!\")\n",
    "        #presenterer ny dict\n",
    "        print(data)\n",
    "    else:\n",
    "        print(\"OK, ha en fin dag videre!\")"
   ]
  },
  {
   "cell_type": "code",
   "execution_count": null,
   "id": "98156c3e-5bef-4b0d-8602-a025393a2b4b",
   "metadata": {},
   "outputs": [],
   "source": [
    "### Oppgave 5 - Funksjon for areal og omkrets\n",
    "\n",
    "#Import lib numpy\n",
    "import numpy as np\n",
    "\n",
    "#Definerer funksjon med a og b som parametre\n",
    "def areal_omkrets(a, b):\n",
    "    \n",
    "    #Beregner hypotenus i trekant med Pythagoras (k1^2 + k2^2 = hyp^2)\n",
    "    hyp = np.sqrt(a**2 + b**2)\n",
    "    \n",
    "    #Radius halvsirkel\n",
    "    rad = a / 2\n",
    "    \n",
    "    #Areal halvsirkel (pi*r^2/2)\n",
    "    areal_sirkel = np.pi * rad**2 / 2\n",
    "    \n",
    "    #Areal trekant (l*b/2)\n",
    "    areal_trekant = a * b / 2\n",
    "\n",
    "    #Areal totalt\n",
    "    areal_tot = areal_sirkel + areal_trekant\n",
    "    \n",
    "    #Omkrets halvsirkel (pi*d/2)\n",
    "    omkrets_sirkel = np.pi * rad\n",
    "    \n",
    "    #Ytre omkrets totalt\n",
    "    omkrets_tot = omkrets_sirkel + b + hyp\n",
    "    \n",
    "    #Definerer funksjonens utdata\n",
    "    return areal_tot, omkrets_tot\n",
    "    \n",
    "#Lar brukeren skrive inn verdier for a og b\n",
    "a = float(input(\"Skriv inn en verdi for a: \"))\n",
    "b = float(input(\"Skriv inn en verdi for b: \"))\n",
    "\n",
    "#Gjør beregninger\n",
    "areal, omkrets = areal_omkrets(a, b)\n",
    "\n",
    "#Presenterer resultat\n",
    "print(f\"Ytre omkrets for hele figuren er {omkrets:.2f}.\")\n",
    "print(f\"Areal for hele figuren er {areal:.2f}.\")"
   ]
  },
  {
   "cell_type": "code",
   "execution_count": 12,
   "id": "71e9f9d0-c44d-40fc-b056-5cbc086f597c",
   "metadata": {},
   "outputs": [
    {
     "data": {
      "image/png": "[encoded data removed]",
      "text/plain": [
       "<Figure size 640x480 with 1 Axes>"
      ]
     },
     "metadata": {},
     "output_type": "display_data"
    }
   ],
   "source": [
    "### Oppgave 6 - Plotting av funksjonsuttrykk f(x) = -x^2 - 5\n",
    "\n",
    "#Import lib numpy og matplotlib\n",
    "import numpy as np\n",
    "import matplotlib.pyplot as plt\n",
    "\n",
    "#Definerer skala på x-akse\n",
    "x = np.linspace(-10, 10, 200)\n",
    "\n",
    "#Definerer funksjonsuttrykk (f(x))\n",
    "fx = -x**2 - 5\n",
    "\n",
    "#Definerer selve plottet\n",
    "plt.plot(x, fx)\n",
    "\n",
    "#Legger på tittel og akseforklaringer\n",
    "plt.title(\"Plot av funksjonen $f(x) = -x^2 - 5$\")\n",
    "plt.xlabel(\"x\")\n",
    "plt.ylabel(\"f(x)\")\n",
    "\n",
    "#presenterer resultat\n",
    "plt.show()\n",
    "\n",
    "\n"
   ]
  },
  {
   "cell_type": "code",
   "execution_count": null,
   "id": "177b84a3-0dc5-4c0f-a9f6-774da13b9b98",
   "metadata": {},
   "outputs": [],
   "source": []
  }
 ],
 "metadata": {
  "kernelspec": {
   "display_name": "Python 3 (ipykernel)",
   "language": "python",
   "name": "python3"
  },
  "language_info": {
   "codemirror_mode": {
    "name": "ipython",
    "version": 3
   },
   "file_extension": ".py",
   "mimetype": "text/x-python",
   "name": "python",
   "nbconvert_exporter": "python",
   "pygments_lexer": "ipython3",
   "version": "3.12.7"
  }
 },
 "nbformat": 4,
 "nbformat_minor": 5
}
